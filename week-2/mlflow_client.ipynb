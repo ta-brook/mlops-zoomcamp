{
 "cells": [
  {
   "cell_type": "code",
   "execution_count": 1,
   "metadata": {},
   "outputs": [],
   "source": [
    "import mlflow"
   ]
  },
  {
   "cell_type": "code",
   "execution_count": 2,
   "metadata": {},
   "outputs": [],
   "source": [
    "MLFLOW_TRACKING_URL = \"sqlite:///mlflow.db\"\n",
    "client = mlflow.tracking.MlflowClient(MLFLOW_TRACKING_URL)"
   ]
  },
  {
   "cell_type": "code",
   "execution_count": 3,
   "metadata": {},
   "outputs": [
    {
     "data": {
      "text/plain": [
       "[<Experiment: artifact_location='file:///c:/Users/Booklyn/Documents/Github/mlops-zoomcamp/week-2/mlruns/2', creation_time=1716361062183, experiment_id='2', last_update_time=1716361062183, lifecycle_stage='active', name='nyc-taxi-experiment', tags={}>,\n",
       " <Experiment: artifact_location='file:///c:/Users/Booklyn/Documents/Github/mlops-zoomcamp/week-2/mlruns/1', creation_time=1716357013132, experiment_id='1', last_update_time=1716357013132, lifecycle_stage='active', name='my-brand-new-experiment', tags={}>,\n",
       " <Experiment: artifact_location='mlflow-artifacts:/0', creation_time=1716355922838, experiment_id='0', last_update_time=1716355922838, lifecycle_stage='active', name='Default', tags={}>]"
      ]
     },
     "execution_count": 3,
     "metadata": {},
     "output_type": "execute_result"
    }
   ],
   "source": [
    "client.search_experiments()"
   ]
  },
  {
   "cell_type": "code",
   "execution_count": 4,
   "metadata": {},
   "outputs": [
    {
     "data": {
      "text/plain": [
       "[<Experiment: artifact_location='file:///c:/Users/Booklyn/Documents/Github/mlops-zoomcamp/week-2/mlruns/2', creation_time=1716361062183, experiment_id='2', last_update_time=1716361062183, lifecycle_stage='active', name='nyc-taxi-experiment', tags={}>]"
      ]
     },
     "execution_count": 4,
     "metadata": {},
     "output_type": "execute_result"
    }
   ],
   "source": [
    "client.search_experiments(filter_string=\"name='nyc-taxi-experiment'\")\n"
   ]
  },
  {
   "cell_type": "code",
   "execution_count": 5,
   "metadata": {},
   "outputs": [
    {
     "data": {
      "text/plain": [
       "'nyc-taxi-experiment'"
      ]
     },
     "execution_count": 5,
     "metadata": {},
     "output_type": "execute_result"
    }
   ],
   "source": [
    "client.search_experiments(filter_string=\"name='nyc-taxi-experiment'\")[0].name"
   ]
  },
  {
   "cell_type": "code",
   "execution_count": 6,
   "metadata": {},
   "outputs": [
    {
     "data": {
      "text/plain": [
       "<Experiment: artifact_location='file:///c:/Users/Booklyn/Documents/Github/mlops-zoomcamp/week-2/mlruns/2', creation_time=1716361062183, experiment_id='2', last_update_time=1716361062183, lifecycle_stage='active', name='nyc-taxi-experiment', tags={}>"
      ]
     },
     "execution_count": 6,
     "metadata": {},
     "output_type": "execute_result"
    }
   ],
   "source": [
    "client.get_experiment_by_name(\"nyc-taxi-experiment\")"
   ]
  },
  {
   "cell_type": "markdown",
   "metadata": {},
   "source": [
    "## Query lowest rmse from taxi experiment"
   ]
  },
  {
   "cell_type": "code",
   "execution_count": 7,
   "metadata": {},
   "outputs": [],
   "source": [
    "from mlflow.entities import ViewType\n",
    "\n",
    "runs = client.search_runs(\n",
    "    experiment_ids=2,\n",
    "    filter_string=\"metrics.rmse < 6.5\",\n",
    "    run_view_type=ViewType.ACTIVE_ONLY,\n",
    "    max_results=5,\n",
    "    order_by=[\"metrics.rmse ASC\"]\n",
    ")"
   ]
  },
  {
   "cell_type": "code",
   "execution_count": 8,
   "metadata": {},
   "outputs": [
    {
     "name": "stdout",
     "output_type": "stream",
     "text": [
      "run id: f5d312fa1fb747d5915d400ed1ea657d, rmse: 6.301488\n",
      "run id: 91f347f4bb994df78dc40b119a4c94c3, rmse: 6.308157\n",
      "run id: bbfbbed524a04d22917dc39f03d7174a, rmse: 6.317416\n",
      "run id: d8ed1104c52e41c997e73c451d0965eb, rmse: 6.318281\n",
      "run id: 9ddc4d70b7a6498099bb98b6c360265b, rmse: 6.318373\n"
     ]
    }
   ],
   "source": [
    "for run in runs:\n",
    "    print(f\"run id: {run.info.run_id}, rmse: {run.data.metrics['rmse']:4f}\")"
   ]
  },
  {
   "cell_type": "markdown",
   "metadata": {},
   "source": [
    "## Promote"
   ]
  },
  {
   "cell_type": "code",
   "execution_count": 9,
   "metadata": {},
   "outputs": [],
   "source": [
    "import mlflow\n",
    "mlflow.set_tracking_uri(MLFLOW_TRACKING_URL)"
   ]
  },
  {
   "cell_type": "code",
   "execution_count": 22,
   "metadata": {},
   "outputs": [
    {
     "name": "stderr",
     "output_type": "stream",
     "text": [
      "Registered model 'nyc-taxi-regression' already exists. Creating a new version of this model...\n",
      "Created version '6' of model 'nyc-taxi-regression'.\n"
     ]
    },
    {
     "data": {
      "text/plain": [
       "<ModelVersion: aliases=[], creation_timestamp=1716559745602, current_stage='None', description=None, last_updated_timestamp=1716559745602, name='nyc-taxi-regression', run_id='91f347f4bb994df78dc40b119a4c94c3', run_link=None, source='file:///c:/Users/Booklyn/Documents/Github/mlops-zoomcamp/week-2/mlruns/2/91f347f4bb994df78dc40b119a4c94c3/artifacts/model', status='READY', status_message=None, tags={'model': 'test'}, user_id=None, version=6>"
      ]
     },
     "execution_count": 22,
     "metadata": {},
     "output_type": "execute_result"
    }
   ],
   "source": [
    "run_id = \"91f347f4bb994df78dc40b119a4c94c3\"\n",
    "model_uri = f\"runs:/{run_id}/model\"\n",
    "mlflow.register_model(\n",
    "    model_uri=model_uri, \n",
    "    name='nyc-taxi-regression',\n",
    "    tags={\"model\": \"test\"}\n",
    "                      )"
   ]
  },
  {
   "cell_type": "code",
   "execution_count": 10,
   "metadata": {},
   "outputs": [
    {
     "name": "stdout",
     "output_type": "stream",
     "text": [
      "version: 5, stage: None, aliases: []\n"
     ]
    },
    {
     "name": "stderr",
     "output_type": "stream",
     "text": [
      "C:\\Users\\Booklyn\\AppData\\Local\\Temp\\ipykernel_17388\\1972632282.py:2: FutureWarning: ``mlflow.tracking.client.MlflowClient.get_latest_versions`` is deprecated since 2.9.0. Model registry stages will be removed in a future major release. To learn more about the deprecation of model registry stages, see our migration guide here: https://mlflow.org/docs/2.12.2/model-registry.html#migrating-from-stages\n",
      "  latest_versions = client.get_latest_versions(name=model_name)\n"
     ]
    }
   ],
   "source": [
    "model_name = \"nyc-taxi-regression\"\n",
    "latest_versions = client.get_latest_versions(name=model_name)\n",
    "\n",
    "for version in latest_versions:\n",
    "    print(f\"version: {version.version}, stage: {version.current_stage}, aliases: {version.aliases}\")"
   ]
  },
  {
   "cell_type": "code",
   "execution_count": 18,
   "metadata": {},
   "outputs": [
    {
     "name": "stdout",
     "output_type": "stream",
     "text": [
      "{   'aliases': {'champion': 1, 'dev': 2, 'production': 3, 'staging': 1},\n",
      "    'creation_timestamp': 1716379403688,\n",
      "    'description': 'nyc taxi',\n",
      "    'last_updated_timestamp': 1716381810622,\n",
      "    'latest_versions': [   <ModelVersion: aliases=[], creation_timestamp=1716381810622, current_stage='None', description=None, last_updated_timestamp=1716381810622, name='nyc-taxi-regression', run_id='91f347f4bb994df78dc40b119a4c94c3', run_link=None, source='file:///c:/Users/Booklyn/Documents/Github/mlops-zoomcamp/week-2/mlruns/2/91f347f4bb994df78dc40b119a4c94c3/artifacts/model', status='READY', status_message=None, tags={'model': 'test'}, user_id=None, version=5>],\n",
      "    'name': 'nyc-taxi-regression',\n",
      "    'tags': {}}\n"
     ]
    }
   ],
   "source": [
    "from pprint import pprint\n",
    "for i in client.search_registered_models():\n",
    "    pprint(dict(i), indent=4)"
   ]
  },
  {
   "cell_type": "code",
   "execution_count": 19,
   "metadata": {},
   "outputs": [
    {
     "name": "stdout",
     "output_type": "stream",
     "text": [
      "{   'aliases': [],\n",
      "    'creation_timestamp': 1716381810622,\n",
      "    'current_stage': 'None',\n",
      "    'description': None,\n",
      "    'last_updated_timestamp': 1716381810622,\n",
      "    'name': 'nyc-taxi-regression',\n",
      "    'run_id': '91f347f4bb994df78dc40b119a4c94c3',\n",
      "    'run_link': None,\n",
      "    'source': 'file:///c:/Users/Booklyn/Documents/Github/mlops-zoomcamp/week-2/mlruns/2/91f347f4bb994df78dc40b119a4c94c3/artifacts/model',\n",
      "    'status': 'READY',\n",
      "    'status_message': None,\n",
      "    'tags': {'model': 'test'},\n",
      "    'user_id': None,\n",
      "    'version': 5}\n",
      "{   'aliases': [],\n",
      "    'creation_timestamp': 1716381187626,\n",
      "    'current_stage': 'None',\n",
      "    'description': None,\n",
      "    'last_updated_timestamp': 1716381187626,\n",
      "    'name': 'nyc-taxi-regression',\n",
      "    'run_id': '91f347f4bb994df78dc40b119a4c94c3',\n",
      "    'run_link': None,\n",
      "    'source': 'file:///c:/Users/Booklyn/Documents/Github/mlops-zoomcamp/week-2/mlruns/2/91f347f4bb994df78dc40b119a4c94c3/artifacts/model',\n",
      "    'status': 'READY',\n",
      "    'status_message': None,\n",
      "    'tags': {},\n",
      "    'user_id': None,\n",
      "    'version': 4}\n",
      "{   'aliases': [],\n",
      "    'creation_timestamp': 1716379808039,\n",
      "    'current_stage': 'None',\n",
      "    'description': '',\n",
      "    'last_updated_timestamp': 1716379808039,\n",
      "    'name': 'nyc-taxi-regression',\n",
      "    'run_id': 'dc1d88ef755340f3b56e19ab2d75aa38',\n",
      "    'run_link': '',\n",
      "    'source': 'models:/nyc-taxi-regression/1',\n",
      "    'status': 'READY',\n",
      "    'status_message': None,\n",
      "    'tags': {'model': 'xgboost'},\n",
      "    'user_id': None,\n",
      "    'version': 3}\n",
      "{   'aliases': [],\n",
      "    'creation_timestamp': 1716379521323,\n",
      "    'current_stage': 'None',\n",
      "    'description': '',\n",
      "    'last_updated_timestamp': 1716379521323,\n",
      "    'name': 'nyc-taxi-regression',\n",
      "    'run_id': '3bae3d00dcfa422a9d66342dbef8add7',\n",
      "    'run_link': '',\n",
      "    'source': 'file:///c:/Users/Booklyn/Documents/Github/mlops-zoomcamp/week-2/mlruns/2/3bae3d00dcfa422a9d66342dbef8add7/artifacts/models_mlflow',\n",
      "    'status': 'READY',\n",
      "    'status_message': None,\n",
      "    'tags': {'model': 'gdgboostregressor'},\n",
      "    'user_id': None,\n",
      "    'version': 2}\n",
      "{   'aliases': [],\n",
      "    'creation_timestamp': 1716379403708,\n",
      "    'current_stage': 'None',\n",
      "    'description': '',\n",
      "    'last_updated_timestamp': 1716379403708,\n",
      "    'name': 'nyc-taxi-regression',\n",
      "    'run_id': 'dc1d88ef755340f3b56e19ab2d75aa38',\n",
      "    'run_link': '',\n",
      "    'source': 'file:///c:/Users/Booklyn/Documents/Github/mlops-zoomcamp/week-2/mlruns/2/dc1d88ef755340f3b56e19ab2d75aa38/artifacts/models_mlflow',\n",
      "    'status': 'READY',\n",
      "    'status_message': None,\n",
      "    'tags': {'model': 'xgboost'},\n",
      "    'user_id': None,\n",
      "    'version': 1}\n"
     ]
    }
   ],
   "source": [
    "model_name = \"nyc-taxi-regression\"\n",
    "for mv in client.search_model_versions(f\"name='{model_name}'\"):\n",
    "    pprint(dict(mv), indent=4)"
   ]
  },
  {
   "cell_type": "markdown",
   "metadata": {},
   "source": [
    "## Alias (stage is deprecated)"
   ]
  },
  {
   "cell_type": "code",
   "execution_count": 6,
   "metadata": {},
   "outputs": [],
   "source": [
    "# create \"champion\" alias for version 1 of model \"example-model\"\n",
    "client.set_registered_model_alias(model_name, \"champion\", 1)\n"
   ]
  },
  {
   "cell_type": "code",
   "execution_count": 7,
   "metadata": {},
   "outputs": [],
   "source": [
    "# reassign the \"Champion\" alias to version 2\n",
    "client.set_registered_model_alias(model_name, \"Champion\", 2)"
   ]
  },
  {
   "cell_type": "code",
   "execution_count": 8,
   "metadata": {},
   "outputs": [
    {
     "data": {
      "text/plain": [
       "<ModelVersion: aliases=['Champion', 'dev'], creation_timestamp=1716379521323, current_stage='None', description='', last_updated_timestamp=1716379521323, name='nyc-taxi-regression', run_id='3bae3d00dcfa422a9d66342dbef8add7', run_link='', source='file:///c:/Users/Booklyn/Documents/Github/mlops-zoomcamp/week-2/mlruns/2/3bae3d00dcfa422a9d66342dbef8add7/artifacts/models_mlflow', status='READY', status_message=None, tags={'model': 'gdgboostregressor'}, user_id=None, version=2>"
      ]
     },
     "execution_count": 8,
     "metadata": {},
     "output_type": "execute_result"
    }
   ],
   "source": [
    "# get a model version by alias\n",
    "client.get_model_version_by_alias(model_name, \"Champion\")"
   ]
  },
  {
   "cell_type": "code",
   "execution_count": 9,
   "metadata": {},
   "outputs": [],
   "source": [
    "# delete the alias\n",
    "client.delete_registered_model_alias(model_name, \"Champion\")"
   ]
  },
  {
   "cell_type": "markdown",
   "metadata": {},
   "source": [
    "test inference model registry"
   ]
  },
  {
   "cell_type": "code",
   "execution_count": 20,
   "metadata": {},
   "outputs": [],
   "source": [
    "from sklearn.metrics import mean_squared_error\n",
    "import pandas as pd\n",
    "\n",
    "\n",
    "def read_dataframe(filename):\n",
    "    if filename.endswith('.csv'):\n",
    "        df = pd.read_csv(filename)\n",
    "\n",
    "        df.lpep_dropoff_datetime = pd.to_datetime(df.lpep_dropoff_datetime)\n",
    "        df.lpep_pickup_datetime = pd.to_datetime(df.lpep_pickup_datetime)\n",
    "    elif filename.endswith('.parquet'):\n",
    "        df = pd.read_parquet(filename)\n",
    "\n",
    "    df.lpep_dropoff_datetime = pd.to_datetime(df.lpep_dropoff_datetime)\n",
    "    df.lpep_pickup_datetime = pd.to_datetime(df.lpep_pickup_datetime)\n",
    "\n",
    "    df['duration'] = df.lpep_dropoff_datetime - df.lpep_pickup_datetime\n",
    "    df.duration = df.duration.apply(lambda td: td.total_seconds() / 60)\n",
    "\n",
    "    df = df[(df.duration >= 1) & (df.duration <= 60)]\n",
    "\n",
    "    categorical = ['PULocationID', 'DOLocationID']\n",
    "    df[categorical] = df[categorical].astype(str)\n",
    "    \n",
    "    return df\n",
    "\n",
    "def preprocess(df, dv):\n",
    "    df['PU_DO'] = df['PULocationID'] + '_' + df['DOLocationID']\n",
    "    categorical = ['PU_DO']\n",
    "    numerical = ['trip_distance']\n",
    "    train_dicts = df[categorical + numerical].to_dict(orient='records')\n",
    "    return dv.transform(train_dicts)\n",
    "\n",
    "\n",
    "def test_model(name, alias, X_test, y_test):\n",
    "    model = mlflow.pyfunc.load_model(f\"models:/{model_name}@{alias}\")\n",
    "    y_pred = model.predict(X_test)\n",
    "    return {\"rmse\": mean_squared_error(y_test, y_pred, squared=False)}"
   ]
  },
  {
   "cell_type": "code",
   "execution_count": 21,
   "metadata": {},
   "outputs": [],
   "source": [
    "df = read_dataframe(\"./data/green_tripdata_2023-01.parquet\")"
   ]
  },
  {
   "cell_type": "code",
   "execution_count": 27,
   "metadata": {},
   "outputs": [
    {
     "data": {
      "text/plain": [
       "'C:\\\\Users\\\\Booklyn\\\\Documents\\\\Github\\\\mlops-zoomcamp\\\\week-2\\\\mlruns\\\\2\\\\3620362c7ef5440c86b0753e0ecba6ec\\\\artifacts\\\\preprocessor'"
      ]
     },
     "execution_count": 27,
     "metadata": {},
     "output_type": "execute_result"
    }
   ],
   "source": [
    "run_id = \"3620362c7ef5440c86b0753e0ecba6ec\"\n",
    "client.download_artifacts(run_id=run_id, path='preprocessor', dst_path='')"
   ]
  },
  {
   "cell_type": "code",
   "execution_count": 25,
   "metadata": {},
   "outputs": [
    {
     "ename": "FileNotFoundError",
     "evalue": "[Errno 2] No such file or directory: 'preprocessor/preprocessor.b'",
     "output_type": "error",
     "traceback": [
      "\u001b[1;31m---------------------------------------------------------------------------\u001b[0m",
      "\u001b[1;31mFileNotFoundError\u001b[0m                         Traceback (most recent call last)",
      "Cell \u001b[1;32mIn[25], line 3\u001b[0m\n\u001b[0;32m      1\u001b[0m \u001b[38;5;28;01mimport\u001b[39;00m \u001b[38;5;21;01mpickle\u001b[39;00m\n\u001b[1;32m----> 3\u001b[0m \u001b[38;5;28;01mwith\u001b[39;00m \u001b[38;5;28;43mopen\u001b[39;49m\u001b[43m(\u001b[49m\u001b[38;5;124;43m\"\u001b[39;49m\u001b[38;5;124;43mpreprocessor/preprocessor.b\u001b[39;49m\u001b[38;5;124;43m\"\u001b[39;49m\u001b[43m,\u001b[49m\u001b[43m \u001b[49m\u001b[38;5;124;43m\"\u001b[39;49m\u001b[38;5;124;43mrb\u001b[39;49m\u001b[38;5;124;43m\"\u001b[39;49m\u001b[43m)\u001b[49m \u001b[38;5;28;01mas\u001b[39;00m f_in:\n\u001b[0;32m      4\u001b[0m     dv \u001b[38;5;241m=\u001b[39m pickle\u001b[38;5;241m.\u001b[39mload(f_in)\n",
      "File \u001b[1;32mc:\\Users\\Booklyn\\miniconda3\\envs\\mlflow\\lib\\site-packages\\IPython\\core\\interactiveshell.py:324\u001b[0m, in \u001b[0;36m_modified_open\u001b[1;34m(file, *args, **kwargs)\u001b[0m\n\u001b[0;32m    317\u001b[0m \u001b[38;5;28;01mif\u001b[39;00m file \u001b[38;5;129;01min\u001b[39;00m {\u001b[38;5;241m0\u001b[39m, \u001b[38;5;241m1\u001b[39m, \u001b[38;5;241m2\u001b[39m}:\n\u001b[0;32m    318\u001b[0m     \u001b[38;5;28;01mraise\u001b[39;00m \u001b[38;5;167;01mValueError\u001b[39;00m(\n\u001b[0;32m    319\u001b[0m         \u001b[38;5;124mf\u001b[39m\u001b[38;5;124m\"\u001b[39m\u001b[38;5;124mIPython won\u001b[39m\u001b[38;5;124m'\u001b[39m\u001b[38;5;124mt let you open fd=\u001b[39m\u001b[38;5;132;01m{\u001b[39;00mfile\u001b[38;5;132;01m}\u001b[39;00m\u001b[38;5;124m by default \u001b[39m\u001b[38;5;124m\"\u001b[39m\n\u001b[0;32m    320\u001b[0m         \u001b[38;5;124m\"\u001b[39m\u001b[38;5;124mas it is likely to crash IPython. If you know what you are doing, \u001b[39m\u001b[38;5;124m\"\u001b[39m\n\u001b[0;32m    321\u001b[0m         \u001b[38;5;124m\"\u001b[39m\u001b[38;5;124myou can use builtins\u001b[39m\u001b[38;5;124m'\u001b[39m\u001b[38;5;124m open.\u001b[39m\u001b[38;5;124m\"\u001b[39m\n\u001b[0;32m    322\u001b[0m     )\n\u001b[1;32m--> 324\u001b[0m \u001b[38;5;28;01mreturn\u001b[39;00m io_open(file, \u001b[38;5;241m*\u001b[39margs, \u001b[38;5;241m*\u001b[39m\u001b[38;5;241m*\u001b[39mkwargs)\n",
      "\u001b[1;31mFileNotFoundError\u001b[0m: [Errno 2] No such file or directory: 'preprocessor/preprocessor.b'"
     ]
    }
   ],
   "source": [
    "import pickle\n",
    "\n",
    "with open(\"preprocessor/preprocessor.b\", \"rb\") as f_in:\n",
    "    dv = pickle.load(f_in)"
   ]
  },
  {
   "cell_type": "code",
   "execution_count": null,
   "metadata": {},
   "outputs": [],
   "source": []
  }
 ],
 "metadata": {
  "kernelspec": {
   "display_name": "mlflow",
   "language": "python",
   "name": "python3"
  },
  "language_info": {
   "codemirror_mode": {
    "name": "ipython",
    "version": 3
   },
   "file_extension": ".py",
   "mimetype": "text/x-python",
   "name": "python",
   "nbconvert_exporter": "python",
   "pygments_lexer": "ipython3",
   "version": "3.10.14"
  }
 },
 "nbformat": 4,
 "nbformat_minor": 2
}
